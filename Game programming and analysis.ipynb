{
 "cells": [
  {
   "cell_type": "markdown",
   "metadata": {},
   "source": [
    "\n",
    "# Project 1\n",
    "\n",
    "### Building \"Pokemon Stay\"\n",
    "\n",
    "---\n",
    "You are an analyst at a \"scrappy\" online gaming company that specializes in remakes of last year's fads.\n",
    "\n",
    "Your boss, who runs the product development team, is convinced that Pokemon Go's fatal flaw was that you had to actually move around outside. She has design mock-ups for a new game called Pokemon Stay: in this version players still need to move, but just from website to website. Pokemon gyms are now popular online destinations, and catching Pokemon in the \"wild\" simply requires browsing the internet for hours in the comfort of your home.\n",
    "\n",
    "She wants you to program a prototype version of the game and analyze the planned content to help the team calibrate the design."
   ]
  },
  {
   "cell_type": "markdown",
   "metadata": {
    "toc": true
   },
   "source": [
    "<h1>Table of Contents<span class=\"tocSkip\"></span></h1>\n",
    "<div class=\"toc\"><ul class=\"toc-item\"><li><ul class=\"toc-item\"><li><span><a href=\"#Building-&quot;Pokemon-Stay&quot;\" data-toc-modified-id=\"Building-&quot;Pokemon-Stay&quot;-0.1\">Building \"Pokemon Stay\"</a></span><ul class=\"toc-item\"><li><span><a href=\"#Package-imports\" data-toc-modified-id=\"Package-imports-0.1.1\">Package imports</a></span></li></ul></li></ul></li><li><span><a href=\"#1.-Defining-a-player\" data-toc-modified-id=\"1.-Defining-a-player-1\">1. Defining a player</a></span></li><li><span><a href=\"#2.-Defining-&quot;gym&quot;-locations\" data-toc-modified-id=\"2.-Defining-&quot;gym&quot;-locations-2\">2. Defining \"gym\" locations</a></span></li><li><span><a href=\"#3.-Create-a-pokedex\" data-toc-modified-id=\"3.-Create-a-pokedex-3\">3. Create a pokedex</a></span></li><li><span><a href=\"#4.-Create-a-data-structure-for-players\" data-toc-modified-id=\"4.-Create-a-data-structure-for-players-4\">4. Create a data structure for players</a></span><ul class=\"toc-item\"><li><span><a href=\"#4.1\" data-toc-modified-id=\"4.1-4.1\">4.1</a></span></li><li><span><a href=\"#4.2\" data-toc-modified-id=\"4.2-4.2\">4.2</a></span></li></ul></li><li><span><a href=\"#5.-Add-captured-pokemon-for-each-player\" data-toc-modified-id=\"5.-Add-captured-pokemon-for-each-player-5\">5. Add captured pokemon for each player</a></span></li><li><span><a href=\"#6.-What-gyms-have-players-visited?\" data-toc-modified-id=\"6.-What-gyms-have-players-visited?-6\">6. What gyms have players visited?</a></span><ul class=\"toc-item\"><li><span><a href=\"#6.1\" data-toc-modified-id=\"6.1-6.1\">6.1</a></span></li><li><span><a href=\"#6.2\" data-toc-modified-id=\"6.2-6.2\">6.2</a></span></li></ul></li><li><span><a href=\"#7.-Calculate-player-&quot;power&quot;.\" data-toc-modified-id=\"7.-Calculate-player-&quot;power&quot;.-7\">7. Calculate player \"power\".</a></span></li><li><span><a href=\"#8.-Load-a-pokedex-file-containing-all-the-pokemon\" data-toc-modified-id=\"8.-Load-a-pokedex-file-containing-all-the-pokemon-8\">8. Load a pokedex file containing all the pokemon</a></span><ul class=\"toc-item\"><li><span><a href=\"#8.1\" data-toc-modified-id=\"8.1-8.1\">8.1</a></span></li><li><span><a href=\"#8.2-Parse-the-raw-pokedex-with-list-comprehensions\" data-toc-modified-id=\"8.2-Parse-the-raw-pokedex-with-list-comprehensions-8.2\">8.2 Parse the raw pokedex with list comprehensions</a></span></li></ul></li><li><span><a href=\"#9.-Write-a-function-to-generate-the-full-pokedex\" data-toc-modified-id=\"9.-Write-a-function-to-generate-the-full-pokedex-9\">9. Write a function to generate the full pokedex</a></span></li><li><span><a href=\"#10.-Write-a-function-to-generate-a-&quot;filtered&quot;-pokedex\" data-toc-modified-id=\"10.-Write-a-function-to-generate-a-&quot;filtered&quot;-pokedex-10\">10. Write a function to generate a \"filtered\" pokedex</a></span></li><li><span><a href=\"#11.-Descriptive-statistics-on-the-prototype-pokedex\" data-toc-modified-id=\"11.-Descriptive-statistics-on-the-prototype-pokedex-11\">11. Descriptive statistics on the prototype pokedex</a></span><ul class=\"toc-item\"><li><span><a href=\"#11.1\" data-toc-modified-id=\"11.1-11.1\">11.1</a></span></li><li><span><a href=\"#11.2\" data-toc-modified-id=\"11.2-11.2\">11.2</a></span></li></ul></li><li><span><a href=\"#12.-Calibrate-the-frequency-of-Pokemon\" data-toc-modified-id=\"12.-Calibrate-the-frequency-of-Pokemon-12\">12. Calibrate the frequency of Pokemon</a></span></li></ul></div>"
   ]
  },
  {
   "cell_type": "markdown",
   "metadata": {},
   "source": [
    "#### Package imports\n",
    "\n",
    "The pprint package below is the only package imported here, and it's not even strictly required to do any of the project. Printing python variables and objects with pprint can help to format them in a \"prettier\" way."
   ]
  },
  {
   "cell_type": "code",
   "execution_count": 71,
   "metadata": {},
   "outputs": [],
   "source": [
    "from pprint import pprint"
   ]
  },
  {
   "cell_type": "markdown",
   "metadata": {},
   "source": [
    "\n",
    "## 1. Defining a player\n",
    "\n",
    "---\n",
    "\n",
    "The player variables are:\n",
    "\n",
    "    player_id : id code unique to each player (integer)\n",
    "    player_name : entered name of the player (string)\n",
    "    time_played : number of times played the game in minutes (float)\n",
    "    player_pokemon: the player's captured pokemon (dictionary)\n",
    "    gyms_visited: ids of the gyms that a player has visited (list)\n",
    "    \n",
    "Create the components for a player object by defining each of these variables. The dictionary and list variables should just be defined as empty; you can use any (correctly typed) values for the others."
   ]
  },
  {
   "cell_type": "code",
   "execution_count": 72,
   "metadata": {},
   "outputs": [],
   "source": [
    "player_id=1\n",
    "player_name='Richard'\n",
    "time_played= 275.5\n",
    "player_pokemon={}\n",
    "gyms_visited=[]"
   ]
  },
  {
   "cell_type": "markdown",
   "metadata": {},
   "source": [
    "\n",
    "## 2. Defining \"gym\" locations\n",
    "\n",
    "---\n",
    "\n",
    "As the sole programmer, Pokemon Stay will have to start small. To begin, there will be 10 different gym location websites on the internet. The gym locations are:\n",
    "\n",
    "    1. 'reddit.com'\n",
    "    2. 'amazon.com'\n",
    "    3. 'twitter.com'\n",
    "    4. 'linkedin.com'\n",
    "    5. 'ebay.com'\n",
    "    6. 'netflix.com'\n",
    "    7. 'sporcle.com'\n",
    "    8. 'stackoverflow.com'\n",
    "    9. 'github.com'\n",
    "    10. 'quora.com'\n",
    "\n",
    "1. Set up a list of all the gym locations. This will be a list of strings.\n",
    "2. Append two of these locations to your player's list of visited gyms.\n",
    "3. Print the list."
   ]
  },
  {
   "cell_type": "code",
   "execution_count": 73,
   "metadata": {},
   "outputs": [
    {
     "name": "stdout",
     "output_type": "stream",
     "text": [
      "['twitter.com', 'github.com']\n"
     ]
    }
   ],
   "source": [
    "gym_locations=['reddit.com','amazon.com','twitter.com','linkedin.com','ebay.com',\n",
    "                   'netflix.com','sporcle.com','stackoverflow.com', 'github.com','quora.com']\n",
    "gyms_visited.append(gym_locations[2])\n",
    "gyms_visited.append(gym_locations[8])\n",
    "print(gyms_visited)"
   ]
  },
  {
   "cell_type": "markdown",
   "metadata": {},
   "source": [
    "\n",
    "## 3. Create a pokedex\n",
    "\n",
    "---\n",
    "\n",
    "We also need to create some pokemon to catch. Each pokemon will be defined by these variables:\n",
    "\n",
    "    pokemon_id : unique identifier for each pokemon (integer)\n",
    "    name : the name of the pokemon (string)\n",
    "    type : the category of pokemon (string)\n",
    "    hp : base hitpoints (integer)\n",
    "    attack : base attack (integer)\n",
    "    defense : base defense (integer)\n",
    "    special_attack : base special attack (integer)\n",
    "    special_defense : base sepecial defense (integer)\n",
    "    speed : base speed (integer)\n",
    "\n",
    "We are only going to create 3 different pokemon with these `pokemon_id` and `pokemon_name` values:\n",
    "\n",
    "    1 : 'charmander'\n",
    "    2 : 'squirtle'\n",
    "    3 : 'bulbasaur'\n",
    "\n",
    "Create a dictionary that will contain the pokemon. The keys of the dictionary will be the `pokemon_id` and the values will themselves be dictionaries that contain the other pokemon variables. The structure of the pokedex dictionary will start like so:\n",
    "     \n",
    "     {\n",
    "         1: {\n",
    "                 'name':'charmander',\n",
    "                 'type':'fire',\n",
    "                 ...\n",
    "                 \n",
    "The `type` of charmander, squirtle, and bulbasaur should be `'fire'`, `'water'`, and `'poison'` respectively. The other values are up to you, make them anything you like!\n",
    "\n",
    "Print (or pretty print) the pokedex dictionary with the 3 pokemon."
   ]
  },
  {
   "cell_type": "code",
   "execution_count": 74,
   "metadata": {},
   "outputs": [
    {
     "name": "stdout",
     "output_type": "stream",
     "text": [
      "{1: {'attack': 20,\n",
      "     'defense': 15,\n",
      "     'hp': 120,\n",
      "     'name': 'charmander',\n",
      "     'special_attack': 25,\n",
      "     'special_defense': 30,\n",
      "     'speed': 18,\n",
      "     'type': 'fire'},\n",
      " 2: {'attack': 25,\n",
      "     'defense': 10,\n",
      "     'hp': 120,\n",
      "     'name': 'squirtle',\n",
      "     'special_attack': 30,\n",
      "     'special_defense': 25,\n",
      "     'speed': 18,\n",
      "     'type': 'water'},\n",
      " 3: {'attack': 30,\n",
      "     'defense': 5,\n",
      "     'hp': 120,\n",
      "     'name': 'bulbasaur',\n",
      "     'special_attack': 35,\n",
      "     'special_defense': 20,\n",
      "     'speed': 18,\n",
      "     'type': 'poison'}}\n"
     ]
    }
   ],
   "source": [
    "pokedex={1:{'name':'charmander',\n",
    "   'type': 'fire',\n",
    "   'hp':120,\n",
    "   'attack':20,\n",
    "   'defense': 15,\n",
    "   'special_attack':25,\n",
    "   'special_defense':30,\n",
    "   'speed':18},\n",
    " 2:{'name':'squirtle',\n",
    "   'type': 'water',\n",
    "   'hp':120,\n",
    "   'attack':25,\n",
    "   'defense': 10,\n",
    "   'special_attack':30,\n",
    "   'special_defense':25,\n",
    "   'speed':18},\n",
    " 3:{'name':'bulbasaur',\n",
    "   'type': 'poison',\n",
    "   'hp':120,\n",
    "   'attack':30,\n",
    "   'defense': 5,\n",
    "   'special_attack':35,\n",
    "   'special_defense':20,\n",
    "   'speed':18}}\n",
    "\n",
    "pprint(pokedex)"
   ]
  },
  {
   "cell_type": "markdown",
   "metadata": {},
   "source": [
    "\n",
    "## 4. Create a data structure for players\n",
    "\n",
    "---\n",
    "\n",
    "### 4.1 \n",
    "\n",
    "In order to maintain a database of multiple players, create a dictionary that keeps track of players indexed by `player_id`. \n",
    "\n",
    "The keys of the dictionary will be `player_id` and the values will be dictionaries containing each player's variables (from question 1). \n",
    "\n",
    "Construct the `players` dictionary and insert the player that you defined in question 1, then print `players`."
   ]
  },
  {
   "cell_type": "code",
   "execution_count": 75,
   "metadata": {},
   "outputs": [
    {
     "name": "stdout",
     "output_type": "stream",
     "text": [
      "{1: {'gyms_visited': ['twitter.com', 'github.com'],\n",
      "     'player_name': 'Richard',\n",
      "     'player_pokemon': {},\n",
      "     'time_played': 275.5}}\n"
     ]
    }
   ],
   "source": [
    "players={1: {'player_name':player_name,'time_played': 275.5, 'player_pokemon':{},'gyms_visited':gyms_visited}}\n",
    "\n",
    "pprint(players)"
   ]
  },
  {
   "cell_type": "markdown",
   "metadata": {},
   "source": [
    "---\n",
    "\n",
    "### 4.2\n",
    "\n",
    "Create a new player with `player_id = 2` in the `players` dictionary. Leave the `'player_pokemon'` dictionary empty. Append `'stackoverflow'` and `'github.com'` to the `'gyms_visited'` list for player 2.\n",
    "\n",
    "The `'player_name'` and `'time_played'` values are up to you, but must be a string and float, respectively.\n",
    "\n",
    "Remember, the player_id is the key for the player in the players dictionary.\n",
    "\n",
    "Print the `players` dictionary with the new player inserted."
   ]
  },
  {
   "cell_type": "code",
   "execution_count": 76,
   "metadata": {},
   "outputs": [
    {
     "name": "stdout",
     "output_type": "stream",
     "text": [
      "{1: {'gyms_visited': ['twitter.com', 'github.com'],\n",
      "     'player_name': 'Richard',\n",
      "     'player_pokemon': {},\n",
      "     'time_played': 275.5},\n",
      " 2: {'gyms_visited': ['stackoverflow.com', 'github.com'],\n",
      "     'player_name': 'Stuart',\n",
      "     'player_pokemon': {},\n",
      "     'time_played': 30}}\n"
     ]
    }
   ],
   "source": [
    "players[2]={'player_name': 'Stuart',\n",
    "            'time_played': 30, \n",
    "            'player_pokemon': {}, \n",
    "            'gyms_visited': []}\n",
    "players[2]['gyms_visited'].append('stackoverflow.com')\n",
    "players[2]['gyms_visited'].append('github.com')\n",
    "\n",
    "\n",
    "pprint(players)"
   ]
  },
  {
   "cell_type": "markdown",
   "metadata": {},
   "source": [
    "\n",
    "## 5. Add captured pokemon for each player\n",
    "\n",
    "---\n",
    "\n",
    "The `'player_pokemon'` keyed dictionaries for each player keep track of which of the pokemon each player has.\n",
    "\n",
    "The keys of the `'player_pokemon'` dictionaries are the pokemon ids that correspond to the ids in the `pokedex` dictionary you created earlier. The values are integers specifying the stats for the pokemon.\n",
    "\n",
    "Give player 1 a squirtle. Give player 2 a charmander and a bulbasaur.\n",
    "\n",
    "Print the players dictionary after adding the pokemon for each player.\n"
   ]
  },
  {
   "cell_type": "code",
   "execution_count": 77,
   "metadata": {},
   "outputs": [
    {
     "name": "stdout",
     "output_type": "stream",
     "text": [
      "{1: {'gyms_visited': ['twitter.com', 'github.com'],\n",
      "     'player_name': 'Richard',\n",
      "     'player_pokemon': {2: {'attack': 25,\n",
      "                            'defense': 10,\n",
      "                            'hp': 120,\n",
      "                            'name': 'squirtle',\n",
      "                            'special_attack': 30,\n",
      "                            'special_defense': 25,\n",
      "                            'speed': 18,\n",
      "                            'type': 'water'}},\n",
      "     'time_played': 275.5},\n",
      " 2: {'gyms_visited': ['stackoverflow.com', 'github.com'],\n",
      "     'player_name': 'Stuart',\n",
      "     'player_pokemon': {1: {'attack': 20,\n",
      "                            'defense': 15,\n",
      "                            'hp': 120,\n",
      "                            'name': 'charmander',\n",
      "                            'special_attack': 25,\n",
      "                            'special_defense': 30,\n",
      "                            'speed': 18,\n",
      "                            'type': 'fire'},\n",
      "                        3: {'attack': 30,\n",
      "                            'defense': 5,\n",
      "                            'hp': 120,\n",
      "                            'name': 'bulbasaur',\n",
      "                            'special_attack': 35,\n",
      "                            'special_defense': 20,\n",
      "                            'speed': 18,\n",
      "                            'type': 'poison'}},\n",
      "     'time_played': 30}}\n"
     ]
    }
   ],
   "source": [
    "players[1]['player_pokemon'][2]=pokedex[2]\n",
    "players[2]['player_pokemon'][1]=pokedex[1]\n",
    "players[2]['player_pokemon'][3]=pokedex[3]\n",
    "\n",
    "pprint(players)"
   ]
  },
  {
   "cell_type": "markdown",
   "metadata": {},
   "source": [
    "## 6. What gyms have players visited?\n",
    "\n",
    "---"
   ]
  },
  {
   "cell_type": "markdown",
   "metadata": {},
   "source": [
    "\n",
    "### 6.1\n",
    "\n",
    "Write a for-loop that:\n",
    "\n",
    "1. Iterates through the `pokemon_gyms` list of gym locations you defined before.\n",
    "2. For each gym, iterate through each player in the `players` dictionary with a second, internal for-loop.\n",
    "3. If the player has visited the gym, print out \"[player] has visited [gym location].\", filling in [player] and [gym location] with the current player's name and current gym location."
   ]
  },
  {
   "cell_type": "code",
   "execution_count": 78,
   "metadata": {},
   "outputs": [
    {
     "name": "stdout",
     "output_type": "stream",
     "text": [
      "Richard has visited twitter.com\n",
      "Stuart has visited stackoverflow.com\n",
      "Richard has visited github.com\n",
      "Stuart has visited github.com\n"
     ]
    }
   ],
   "source": [
    "for gym in gym_locations:\n",
    "    for player in players:\n",
    "        if gym in players[player]['gyms_visited']:\n",
    "            print(players[player]['player_name']+' has visited '+gym)"
   ]
  },
  {
   "cell_type": "markdown",
   "metadata": {},
   "source": [
    "\n",
    "### 6.2\n",
    "\n",
    "How many times did that loop run? If you have N gyms and also N players, how many times would it run as a function of N?\n",
    "\n",
    "Can you think of a more efficient way to accomplish the same thing? \n",
    "\n",
    "(You can write your answer as Markdown text.)"
   ]
  },
  {
   "cell_type": "markdown",
   "metadata": {},
   "source": [
    "The loop ran 20 times, once for every combination of player and gym location. \n",
    "This can be computed with: number_of_loops= len(players) * len(gym_locations).\n",
    "For N gyms and N players the loop will run N * N times.\n",
    "\n",
    "If the first loop is run on players, and the second loop is ran on the list of gyms inside each players dictionary the loop would run equal to the number of gyms in all players dictionaries."
   ]
  },
  {
   "cell_type": "code",
   "execution_count": 79,
   "metadata": {},
   "outputs": [
    {
     "name": "stdout",
     "output_type": "stream",
     "text": [
      "Richard has visited twitter.com\n",
      "Richard has visited github.com\n",
      "Stuart has visited stackoverflow.com\n",
      "Stuart has visited github.com\n"
     ]
    }
   ],
   "source": [
    "for player in players:\n",
    "    for gym in players[player]['gyms_visited']:\n",
    "        print (players[player]['player_name']+' has visited '+gym)"
   ]
  },
  {
   "cell_type": "markdown",
   "metadata": {},
   "source": [
    "\n",
    "## 7. Calculate player \"power\".\n",
    "\n",
    "---\n",
    "\n",
    "Define a function that will calculate a player's \"power\". Player power is defined as the sum of the base statistics of all their pokemon.\n",
    "\n",
    "Your function will:\n",
    "\n",
    "1. Accept the `players` dictionary, `pokedex` dictionary, and a player_id as arguments.\n",
    "2. For the specified player_id, look up that player's pokemon and their level(s).\n",
    "3. Find and aggregate the attack and defense values for each of the player's pokemon from the `pokedex` dictionary.\n",
    "4. Print \"[player name]'s power is [player power].\", where the player power is the sum of the base statistics for all of their pokemon.\n",
    "5. Return the player's power value.\n",
    "\n",
    "Print out the pokemon power for each of your players."
   ]
  },
  {
   "cell_type": "code",
   "execution_count": 80,
   "metadata": {},
   "outputs": [
    {
     "name": "stdout",
     "output_type": "stream",
     "text": [
      "Stuart's power is 180\n"
     ]
    },
    {
     "data": {
      "text/plain": [
       "180"
      ]
     },
     "execution_count": 80,
     "metadata": {},
     "output_type": "execute_result"
    }
   ],
   "source": [
    "def player_power(players,pokedex, player_id):\n",
    "    \"\"\"(dict,dict,int)-> int\n",
    "    \n",
    "    Returns players power for given player_id, players and pokedex\"\"\"\n",
    "    total_power = 0\n",
    "    for pokemon in players[player_id]['player_pokemon']:\n",
    "        total_power=total_power+ pokedex[pokemon]['attack']+pokedex[pokemon]['defense']+pokedex[pokemon]['special_attack']+pokedex[pokemon]['special_defense']\n",
    "    print(players[player_id]['player_name']+'\\'s power is '+ str(total_power))\n",
    "    return total_power\n",
    "\n",
    "player_power(players,pokedex,2)\n",
    "        "
   ]
  },
  {
   "cell_type": "markdown",
   "metadata": {
    "collapsed": true
   },
   "source": [
    "\n",
    "## 8. Load a pokedex file containing all the pokemon\n",
    "\n",
    "---\n",
    "\n",
    "### 8.1\n",
    "\n",
    "While you were putting together the prototype code, your colleagues were preparing a dataset of Pokemon and their attributes. (This was a rush job, so they may have picked some crazy values for some...)\n",
    "\n",
    "The code below loads information from a comma separated value (csv) file. You need to parse this string into a more useable format. The format of the string is:\n",
    "\n",
    "- Rows are separated by newline characters: \\n\n",
    "- Columns are separated by commas: ,\n",
    "- All cells in the csv are double quoted. Ex: \"PokedexNumber\" is the first cell of the first row.\n",
    "\n",
    "\n",
    "Using for-loops, create a list of lists where each list within the overall list is a row of the csv/matrix, and each element in that list is a cell in that row. Additional criteria:\n",
    "\n",
    "1. Quotes are removed from each cell item.\n",
    "2. Numeric column values are converted to floats.\n",
    "3. There are some cells that are empty and have no information. For these cells put a -1 value in place.\n",
    "\n",
    "Your end result is effectively a matrix. Each list in the outer list is a row, and the *j*th elements of the list together form the *j*th column, which represents a data attribute. The first three lists in your pokedex list should look like this:\n",
    "\n",
    "    ['PokedexNumber', 'Name', 'Type', 'Total', 'HP', 'Attack', 'Defense', 'SpecialAttack', 'SpecialDefense', 'Speed']\n",
    "    [1.0, 'Bulbasaur', 'GrassPoison', 318.0, 45.0, 49.0, 49.0, 65.0, 65.0, 45.0]\n",
    "    [2.0, 'Ivysaur', 'GrassPoison', 405.0, 60.0, 62.0, 63.0, 80.0, 80.0, 60.0]"
   ]
  },
  {
   "cell_type": "code",
   "execution_count": 6,
   "metadata": {},
   "outputs": [],
   "source": [
    "# Code to read in pokedex info\n",
    "raw_pd = ''\n",
    "pokedex_file = 'pokedex_basic.csv'\n",
    "with open(pokedex_file, 'r') as f:\n",
    "    raw_pd = f.read()\n",
    "# the pokedex string is assigned to the raw_pd variable"
   ]
  },
  {
   "cell_type": "code",
   "execution_count": 82,
   "metadata": {},
   "outputs": [],
   "source": [
    "raw_pd1=raw_pd.replace('\"\"','\"-1\"')\n",
    "raw_pd1=raw_pd1.replace('\"','')\n",
    "raw_pd1=raw_pd1.split('\\n')\n",
    "\n",
    "for i in range(0,len(raw_pd1)):\n",
    "    raw_pd1[i]=raw_pd1[i].split(',')\n",
    "for line in range(0,len(raw_pd1)):\n",
    "    for item in range(0,len(raw_pd1[line])):\n",
    "        try:\n",
    "            raw_pd1[line][item] = float(raw_pd1[line][item])\n",
    "        except:\n",
    "            pass   "
   ]
  },
  {
   "cell_type": "markdown",
   "metadata": {},
   "source": [
    "\n",
    "### 8.2 Parse the raw pokedex with list comprehensions\n",
    "\n",
    "---\n",
    "\n",
    "Perform the same parsing as above, but **using only a single list comprehension** instead of for loops. You may have nested list comprehensions within the main list comprehension! The output should be exactly the same."
   ]
  },
  {
   "cell_type": "code",
   "execution_count": 83,
   "metadata": {},
   "outputs": [],
   "source": [
    "w=raw_pd.replace('\"','').replace('\\n',',').split(',')\n",
    "   \n",
    "x=[float(w[i]) if ((w[i])).isnumeric()== True else (w[i]) for i in range(0,len(w))]\n",
    "\n",
    "raw_pd2=[x[(0+10*(i)):(10+10*(i))] for i in range(0,len(x)//10)]"
   ]
  },
  {
   "cell_type": "code",
   "execution_count": 84,
   "metadata": {},
   "outputs": [
    {
     "data": {
      "text/plain": [
       "True"
      ]
     },
     "execution_count": 84,
     "metadata": {},
     "output_type": "execute_result"
    }
   ],
   "source": [
    "#are both dictionaries the same\n",
    "raw_pd2==raw_pd1"
   ]
  },
  {
   "cell_type": "markdown",
   "metadata": {},
   "source": [
    "\n",
    "## 9. Write a function to generate the full pokedex\n",
    "\n",
    "---\n",
    "\n",
    "Write a function that recreates the pokedex you made before, but with the data read in from the full pokemon file. Create a unique key value for each entry in the pokemon dictionary.\n",
    "\n",
    "Your function should:\n",
    "\n",
    "1. Take the parsed pokedex information you created above as an argument.\n",
    "2. Return a dictionary in the same format as your original pokedex you created before containing the information from the parsed full pokedex file.\n",
    "\n",
    "To test the function, print out the pokemon with id = 100."
   ]
  },
  {
   "cell_type": "code",
   "execution_count": 85,
   "metadata": {
    "scrolled": true
   },
   "outputs": [],
   "source": [
    "def create_pokedex(parsed_data):\n",
    "    pokedex={}\n",
    "    for pokemon_index in range(1,len(parsed_data)):\n",
    "        pokedex[pokemon_index]= {parsed_data[0][i]:parsed_data[pokemon_index][i] for i in range(1,10)} \n",
    "       \n",
    "    return pokedex\n",
    "    \n"
   ]
  },
  {
   "cell_type": "code",
   "execution_count": 86,
   "metadata": {},
   "outputs": [
    {
     "data": {
      "text/plain": [
       "{'Name': 'Gastly',\n",
       " 'Type': 'GhostPoison',\n",
       " 'Total': 310.0,\n",
       " 'HP': 30.0,\n",
       " 'Attack': 35.0,\n",
       " 'Defense': 30.0,\n",
       " 'SpecialAttack': 100.0,\n",
       " 'SpecialDefense': 35.0,\n",
       " 'Speed': 80.0}"
      ]
     },
     "execution_count": 86,
     "metadata": {},
     "output_type": "execute_result"
    }
   ],
   "source": [
    "pokedex= create_pokedex(raw_pd1)\n",
    "pokedex[100]\n"
   ]
  },
  {
   "cell_type": "markdown",
   "metadata": {},
   "source": [
    "\n",
    "## 10. Write a function to generate a \"filtered\" pokedex\n",
    "---\n",
    "Your function should:\n",
    "1. Take the parsed pokedex information you created above as an argument.\n",
    "1. Take a dictionary as a parameter with keys matching the features of the Pokedex, filtering by exact match for string type values, and/or filter continuous variables specified by a value that is greater than or equal to the value of the corresponding dictionary key parameter.\n",
    "1. Return multiple elements from the Pokedex\n",
    "\n",
    "Example:\n",
    "\n",
    "```python\n",
    "\n",
    "# Only filter based on parameters passed\n",
    "filter_options = {\n",
    "    'Attack':   25,\n",
    "    'Defense':  30,\n",
    "    'Type':     'Electric'\n",
    "}\n",
    "\n",
    "# Return records with attack >= 25, defense >= 30, and type == \"Electric\"\n",
    "# Also anticipate that other paramters can also be passed such as \"SpecialAttack\", \"Speed\", etc.\n",
    "filtered_pokedex(pokedex_data, filter=filter_options)\n",
    "\n",
    "# Example output:\n",
    "# [{'Attack': 30.0,\n",
    "#  'Defense': 50.0,\n",
    "#  'HP': 40.0,\n",
    "#  'Name': 'Voltorb',\n",
    "#  'SpecialAttack': 55.0,\n",
    "#  'SpecialDefense': 55.0,\n",
    "#  'Speed': 100.0,\n",
    "#  'Total': 330.0,\n",
    "#  'Type': 'Electric'},\n",
    "#  {'Attack': 30.0,\n",
    "#  'Defense': 33.0,\n",
    "#  'HP': 32.0,\n",
    "#  'Name': 'Pikachu',\n",
    "#  'SpecialAttack': 55.0,\n",
    "#  'SpecialDefense': 55.0,\n",
    "#  'Speed': 100.0,\n",
    "#  'Total': 330.0,\n",
    "#  'Type': 'Electric'},\n",
    "#  ... etc\n",
    "#  ]\n",
    "\n",
    "```\n",
    "\n"
   ]
  },
  {
   "cell_type": "code",
   "execution_count": 87,
   "metadata": {},
   "outputs": [
    {
     "data": {
      "text/plain": [
       "[{1: {'Name': 'Pikachu',\n",
       "   'Type': 'Electric',\n",
       "   'Total': 320.0,\n",
       "   'HP': 35.0,\n",
       "   'Attack': 55.0,\n",
       "   'Defense': 40.0,\n",
       "   'SpecialAttack': 50.0,\n",
       "   'SpecialDefense': 50.0,\n",
       "   'Speed': 90.0},\n",
       "  2: {'Name': 'Raichu',\n",
       "   'Type': 'Electric',\n",
       "   'Total': 485.0,\n",
       "   'HP': 60.0,\n",
       "   'Attack': 90.0,\n",
       "   'Defense': 55.0,\n",
       "   'SpecialAttack': 90.0,\n",
       "   'SpecialDefense': 80.0,\n",
       "   'Speed': 110.0},\n",
       "  3: {'Name': 'Voltorb',\n",
       "   'Type': 'Electric',\n",
       "   'Total': 330.0,\n",
       "   'HP': 40.0,\n",
       "   'Attack': 30.0,\n",
       "   'Defense': 50.0,\n",
       "   'SpecialAttack': 55.0,\n",
       "   'SpecialDefense': 55.0,\n",
       "   'Speed': 100.0},\n",
       "  4: {'Name': 'Electrode',\n",
       "   'Type': 'Electric',\n",
       "   'Total': 480.0,\n",
       "   'HP': 60.0,\n",
       "   'Attack': 50.0,\n",
       "   'Defense': 70.0,\n",
       "   'SpecialAttack': 80.0,\n",
       "   'SpecialDefense': 80.0,\n",
       "   'Speed': 140.0},\n",
       "  5: {'Name': 'Electabuzz',\n",
       "   'Type': 'Electric',\n",
       "   'Total': 490.0,\n",
       "   'HP': 65.0,\n",
       "   'Attack': 83.0,\n",
       "   'Defense': 57.0,\n",
       "   'SpecialAttack': 95.0,\n",
       "   'SpecialDefense': 85.0,\n",
       "   'Speed': 105.0},\n",
       "  6: {'Name': 'Jolteon',\n",
       "   'Type': 'Electric',\n",
       "   'Total': 525.0,\n",
       "   'HP': 65.0,\n",
       "   'Attack': 65.0,\n",
       "   'Defense': 60.0,\n",
       "   'SpecialAttack': 110.0,\n",
       "   'SpecialDefense': 95.0,\n",
       "   'Speed': 130.0},\n",
       "  7: {'Name': 'Mareep',\n",
       "   'Type': 'Electric',\n",
       "   'Total': 280.0,\n",
       "   'HP': 55.0,\n",
       "   'Attack': 40.0,\n",
       "   'Defense': 40.0,\n",
       "   'SpecialAttack': 65.0,\n",
       "   'SpecialDefense': 45.0,\n",
       "   'Speed': 35.0},\n",
       "  8: {'Name': 'Flaaffy',\n",
       "   'Type': 'Electric',\n",
       "   'Total': 365.0,\n",
       "   'HP': 70.0,\n",
       "   'Attack': 55.0,\n",
       "   'Defense': 55.0,\n",
       "   'SpecialAttack': 80.0,\n",
       "   'SpecialDefense': 60.0,\n",
       "   'Speed': 45.0},\n",
       "  9: {'Name': 'Ampharos',\n",
       "   'Type': 'Electric',\n",
       "   'Total': 510.0,\n",
       "   'HP': 90.0,\n",
       "   'Attack': 75.0,\n",
       "   'Defense': 85.0,\n",
       "   'SpecialAttack': 115.0,\n",
       "   'SpecialDefense': 90.0,\n",
       "   'Speed': 55.0},\n",
       "  10: {'Name': 'Elekid',\n",
       "   'Type': 'Electric',\n",
       "   'Total': 360.0,\n",
       "   'HP': 45.0,\n",
       "   'Attack': 63.0,\n",
       "   'Defense': 37.0,\n",
       "   'SpecialAttack': 65.0,\n",
       "   'SpecialDefense': 55.0,\n",
       "   'Speed': 95.0},\n",
       "  11: {'Name': 'Raikou',\n",
       "   'Type': 'Electric',\n",
       "   'Total': 580.0,\n",
       "   'HP': 90.0,\n",
       "   'Attack': 85.0,\n",
       "   'Defense': 75.0,\n",
       "   'SpecialAttack': 115.0,\n",
       "   'SpecialDefense': 100.0,\n",
       "   'Speed': 115.0},\n",
       "  12: {'Name': 'Electrike',\n",
       "   'Type': 'Electric',\n",
       "   'Total': 295.0,\n",
       "   'HP': 40.0,\n",
       "   'Attack': 45.0,\n",
       "   'Defense': 40.0,\n",
       "   'SpecialAttack': 65.0,\n",
       "   'SpecialDefense': 40.0,\n",
       "   'Speed': 65.0},\n",
       "  13: {'Name': 'Manectric',\n",
       "   'Type': 'Electric',\n",
       "   'Total': 475.0,\n",
       "   'HP': 70.0,\n",
       "   'Attack': 75.0,\n",
       "   'Defense': 60.0,\n",
       "   'SpecialAttack': 105.0,\n",
       "   'SpecialDefense': 60.0,\n",
       "   'Speed': 105.0},\n",
       "  14: {'Name': 'ManectricMega Manectric',\n",
       "   'Type': 'Electric',\n",
       "   'Total': 575.0,\n",
       "   'HP': 70.0,\n",
       "   'Attack': 75.0,\n",
       "   'Defense': 80.0,\n",
       "   'SpecialAttack': 135.0,\n",
       "   'SpecialDefense': 80.0,\n",
       "   'Speed': 135.0},\n",
       "  15: {'Name': 'Plusle',\n",
       "   'Type': 'Electric',\n",
       "   'Total': 405.0,\n",
       "   'HP': 60.0,\n",
       "   'Attack': 50.0,\n",
       "   'Defense': 40.0,\n",
       "   'SpecialAttack': 85.0,\n",
       "   'SpecialDefense': 75.0,\n",
       "   'Speed': 95.0},\n",
       "  16: {'Name': 'Minun',\n",
       "   'Type': 'Electric',\n",
       "   'Total': 405.0,\n",
       "   'HP': 60.0,\n",
       "   'Attack': 40.0,\n",
       "   'Defense': 50.0,\n",
       "   'SpecialAttack': 75.0,\n",
       "   'SpecialDefense': 85.0,\n",
       "   'Speed': 95.0},\n",
       "  17: {'Name': 'Shinx',\n",
       "   'Type': 'Electric',\n",
       "   'Total': 263.0,\n",
       "   'HP': 45.0,\n",
       "   'Attack': 65.0,\n",
       "   'Defense': 34.0,\n",
       "   'SpecialAttack': 40.0,\n",
       "   'SpecialDefense': 34.0,\n",
       "   'Speed': 45.0},\n",
       "  18: {'Name': 'Luxio',\n",
       "   'Type': 'Electric',\n",
       "   'Total': 363.0,\n",
       "   'HP': 60.0,\n",
       "   'Attack': 85.0,\n",
       "   'Defense': 49.0,\n",
       "   'SpecialAttack': 60.0,\n",
       "   'SpecialDefense': 49.0,\n",
       "   'Speed': 60.0},\n",
       "  19: {'Name': 'Luxray',\n",
       "   'Type': 'Electric',\n",
       "   'Total': 523.0,\n",
       "   'HP': 80.0,\n",
       "   'Attack': 120.0,\n",
       "   'Defense': 79.0,\n",
       "   'SpecialAttack': 95.0,\n",
       "   'SpecialDefense': 79.0,\n",
       "   'Speed': 70.0},\n",
       "  20: {'Name': 'Pachirisu',\n",
       "   'Type': 'Electric',\n",
       "   'Total': 405.0,\n",
       "   'HP': 60.0,\n",
       "   'Attack': 45.0,\n",
       "   'Defense': 70.0,\n",
       "   'SpecialAttack': 45.0,\n",
       "   'SpecialDefense': 90.0,\n",
       "   'Speed': 95.0},\n",
       "  21: {'Name': 'Electivire',\n",
       "   'Type': 'Electric',\n",
       "   'Total': 540.0,\n",
       "   'HP': 75.0,\n",
       "   'Attack': 123.0,\n",
       "   'Defense': 67.0,\n",
       "   'SpecialAttack': 95.0,\n",
       "   'SpecialDefense': 85.0,\n",
       "   'Speed': 95.0},\n",
       "  22: {'Name': 'Blitzle',\n",
       "   'Type': 'Electric',\n",
       "   'Total': 295.0,\n",
       "   'HP': 45.0,\n",
       "   'Attack': 60.0,\n",
       "   'Defense': 32.0,\n",
       "   'SpecialAttack': 50.0,\n",
       "   'SpecialDefense': 32.0,\n",
       "   'Speed': 76.0},\n",
       "  23: {'Name': 'Zebstrika',\n",
       "   'Type': 'Electric',\n",
       "   'Total': 497.0,\n",
       "   'HP': 75.0,\n",
       "   'Attack': 100.0,\n",
       "   'Defense': 63.0,\n",
       "   'SpecialAttack': 80.0,\n",
       "   'SpecialDefense': 63.0,\n",
       "   'Speed': 116.0},\n",
       "  24: {'Name': 'Tynamo',\n",
       "   'Type': 'Electric',\n",
       "   'Total': 275.0,\n",
       "   'HP': 35.0,\n",
       "   'Attack': 55.0,\n",
       "   'Defense': 40.0,\n",
       "   'SpecialAttack': 45.0,\n",
       "   'SpecialDefense': 40.0,\n",
       "   'Speed': 60.0},\n",
       "  25: {'Name': 'Eelektrik',\n",
       "   'Type': 'Electric',\n",
       "   'Total': 405.0,\n",
       "   'HP': 65.0,\n",
       "   'Attack': 85.0,\n",
       "   'Defense': 70.0,\n",
       "   'SpecialAttack': 75.0,\n",
       "   'SpecialDefense': 70.0,\n",
       "   'Speed': 40.0},\n",
       "  26: {'Name': 'Eelektross',\n",
       "   'Type': 'Electric',\n",
       "   'Total': 515.0,\n",
       "   'HP': 85.0,\n",
       "   'Attack': 115.0,\n",
       "   'Defense': 80.0,\n",
       "   'SpecialAttack': 105.0,\n",
       "   'SpecialDefense': 80.0,\n",
       "   'Speed': 50.0}}]"
      ]
     },
     "execution_count": 87,
     "metadata": {},
     "output_type": "execute_result"
    }
   ],
   "source": [
    "import copy\n",
    "\n",
    "def filtered_pokedex(pokedex_data, filter_options={}):\n",
    "    filtered_pokedex=copy.copy(pokedex_data)\n",
    "    for feature in filter_options:\n",
    "        a= pokedex_data[0].index(feature)\n",
    "        for pokemon_index in reversed(range(1,len(filtered_pokedex))):\n",
    "            if type(filtered_pokedex[pokemon_index][a])==str:\n",
    "                if filtered_pokedex[pokemon_index][a]!=filter_options[feature]:\n",
    "                    filtered_pokedex.pop(pokemon_index)\n",
    "            else:\n",
    "                if filtered_pokedex[pokemon_index][a] < filter_options[feature]:\n",
    "                    filtered_pokedex.pop(pokemon_index)\n",
    "                    \n",
    "    return [create_pokedex(filtered_pokedex)]\n",
    "\n",
    "filtered_pokedex1=filtered_pokedex(raw_pd1,{'Attack':   25,'Defense':  30,'Type': 'Electric'} )\n",
    "\n",
    "filtered_pokedex1"
   ]
  },
  {
   "cell_type": "markdown",
   "metadata": {
    "collapsed": true
   },
   "source": [
    "\n",
    "## 11. Descriptive statistics on the prototype pokedex\n",
    "\n",
    "\n",
    "### 11.1\n",
    "\n",
    "What is the population mean and standard deviation of the \"Total\" attribute for all characters in the Pokedex?\n",
    "\n"
   ]
  },
  {
   "cell_type": "code",
   "execution_count": 88,
   "metadata": {},
   "outputs": [],
   "source": [
    "import numpy as np"
   ]
  },
  {
   "cell_type": "code",
   "execution_count": 89,
   "metadata": {},
   "outputs": [
    {
     "name": "stdout",
     "output_type": "stream",
     "text": [
      "Mean total power of pokemon total power in pokedex: 435.1275\n",
      "Standard deviation of pokemon total power in pokedex: 119.96202000529168\n"
     ]
    }
   ],
   "source": [
    "def mean_of_total_power(pokedex):\n",
    "    summation=0\n",
    "    for pokemon_index in pokedex:\n",
    "        summation= pokedex[pokemon_index]['Total']+summation\n",
    "    mean=summation/(len(pokedex))\n",
    "    return mean\n",
    "\n",
    "print('Mean total power of pokemon total power in pokedex: '+str(mean_of_total_power(pokedex)))\n",
    "\n",
    "\n",
    "def standard_dev_of_power(pokedex):\n",
    "    SDlist=[]\n",
    "    for pokemon_index in pokedex:\n",
    "        SDlist.append(pokedex[pokemon_index]['Total'])\n",
    "    SD=np.std(SDlist)\n",
    "    return SD\n",
    "        \n",
    "print('Standard deviation of pokemon total power in pokedex: '+str(standard_dev_of_power(pokedex)))"
   ]
  },
  {
   "cell_type": "markdown",
   "metadata": {},
   "source": [
    "\n",
    "### 11.2\n",
    "\n",
    "The game is no fun if the characters are wildly unbalanced! Are any characters \"overpowered\", which we'll define as having a \"Total\" more than three standard deviations from the population mean?"
   ]
  },
  {
   "cell_type": "code",
   "execution_count": 90,
   "metadata": {},
   "outputs": [
    {
     "name": "stdout",
     "output_type": "stream",
     "text": [
      "A pokemon with Total over 795.0 is overpowered\n"
     ]
    },
    {
     "data": {
      "text/plain": [
       "['MewtwoMega Mewtwo X']"
      ]
     },
     "execution_count": 90,
     "metadata": {},
     "output_type": "execute_result"
    }
   ],
   "source": [
    "def over_powered_pokemon(pokedex):\n",
    "    op_pokemon=[]\n",
    "    op= mean_of_total_power(pokedex)+ 3*(standard_dev_of_power(pokedex))\n",
    "    for pokemon_index in pokedex:\n",
    "        if pokedex[pokemon_index]['Total']>= op:\n",
    "            op_pokemon.append(pokedex[pokemon_index]['Name'])\n",
    "    print ('A pokemon with Total over '+str(op.round())+' is overpowered')\n",
    "    return op_pokemon     \n",
    "   \n",
    "over_powered_pokemon(pokedex)"
   ]
  },
  {
   "cell_type": "markdown",
   "metadata": {},
   "source": [
    "\n",
    "## 12. Calibrate the frequency of Pokemon\n",
    "\n",
    "The design team wants you to make the powerful Pokemon rare, and the weaklings more common. How would you set the probability $p_i$ of finding Pokemon *i* each time a player visits a gym?\n",
    "\n",
    "Write a function that takes in a Pokedex number and returns a value $p_i$ for that character.\n",
    "\n",
    "Hint: there are many ways you could do this. What do _you_ think makes sense? Start with simplifying assumptions: for example, you could assume that the probabilities of encountering any two Pokemon on one visit to a gym are independent of each other."
   ]
  },
  {
   "cell_type": "code",
   "execution_count": 91,
   "metadata": {},
   "outputs": [],
   "source": [
    "import matplotlib.pyplot as plt\n",
    "import seaborn as sns"
   ]
  },
  {
   "cell_type": "markdown",
   "metadata": {},
   "source": [
    "Factors to consider:\n",
    "On average, how many pokemon do we want players to catch each time they visit a gym?\n",
    "\n",
    "Are there any insights from data that could be considered part of the game narrative and help inform probability choice."
   ]
  },
  {
   "cell_type": "code",
   "execution_count": 92,
   "metadata": {},
   "outputs": [],
   "source": [
    "#distribution of total powers\n",
    "\n",
    "def histogram_pokedex_totalpower(pokedex):\n",
    "    totals=[]\n",
    "    for pokemon_index in pokedex:\n",
    "        totals.append(pokedex[pokemon_index]['Total'])\n",
    "    x=plt.hist(totals, bins=30);plt.xlabel('Total Power');plt.ylabel('Count')\n",
    "    return plt.show(x)\n",
    "    "
   ]
  },
  {
   "cell_type": "code",
   "execution_count": 93,
   "metadata": {},
   "outputs": [
    {
     "data": {
      "image/png": "[encoded data removed]",
      "text/plain": [
       "<Figure size 432x288 with 1 Axes>"
      ]
     },
     "metadata": {
      "needs_background": "light"
     },
     "output_type": "display_data"
    }
   ],
   "source": [
    "histogram_pokedex_totalpower(pokedex)"
   ]
  },
  {
   "cell_type": "markdown",
   "metadata": {},
   "source": [
    "Pokemon powers are spread quite wide, there are no discernable classes of pokemon based on their power other than the small group of most powerful pokemon."
   ]
  },
  {
   "cell_type": "code",
   "execution_count": 94,
   "metadata": {},
   "outputs": [
    {
     "name": "stdout",
     "output_type": "stream",
     "text": [
      "154 unique pokemon types from 800 pokemon.\n"
     ]
    }
   ],
   "source": [
    "#how many unique types of pokemon are there?\n",
    "def pokemon_types(pokedex):\n",
    "    pokemon_types_list=[]\n",
    "    for pokemon_index in pokedex:\n",
    "        if pokedex[pokemon_index]['Type'] not in pokemon_types_list:\n",
    "            pokemon_types_list.append(pokedex[pokemon_index]['Type'])\n",
    "    return len(pokemon_types_list)\n",
    "       \n",
    "print(str(pokemon_types(pokedex))+' unique pokemon types from '+str(len(pokedex))+' pokemon.')"
   ]
  },
  {
   "cell_type": "markdown",
   "metadata": {},
   "source": [
    "With an average of 5.2 pokemon per category and 154 categories using category to inform probabilty is unlikely to contribute to the game narrative and user experience"
   ]
  },
  {
   "cell_type": "code",
   "execution_count": 95,
   "metadata": {},
   "outputs": [
    {
     "data": {
      "text/html": [
       "<div>\n",
       "<style scoped>\n",
       "    .dataframe tbody tr th:only-of-type {\n",
       "        vertical-align: middle;\n",
       "    }\n",
       "\n",
       "    .dataframe tbody tr th {\n",
       "        vertical-align: top;\n",
       "    }\n",
       "\n",
       "    .dataframe thead th {\n",
       "        text-align: right;\n",
       "    }\n",
       "</style>\n",
       "<table border=\"1\" class=\"dataframe\">\n",
       "  <thead>\n",
       "    <tr style=\"text-align: right;\">\n",
       "      <th></th>\n",
       "      <th>Pokemon</th>\n",
       "      <th>Power</th>\n",
       "      <th>Rank</th>\n",
       "    </tr>\n",
       "    <tr>\n",
       "      <th>Index</th>\n",
       "      <th></th>\n",
       "      <th></th>\n",
       "      <th></th>\n",
       "    </tr>\n",
       "  </thead>\n",
       "  <tbody>\n",
       "    <tr>\n",
       "      <th>164</th>\n",
       "      <td>MewtwoMega Mewtwo X</td>\n",
       "      <td>800.0</td>\n",
       "      <td>1</td>\n",
       "    </tr>\n",
       "    <tr>\n",
       "      <th>165</th>\n",
       "      <td>MewtwoMega Mewtwo Y</td>\n",
       "      <td>780.0</td>\n",
       "      <td>2</td>\n",
       "    </tr>\n",
       "    <tr>\n",
       "      <th>427</th>\n",
       "      <td>RayquazaMega Rayquaza</td>\n",
       "      <td>780.0</td>\n",
       "      <td>3</td>\n",
       "    </tr>\n",
       "    <tr>\n",
       "      <th>423</th>\n",
       "      <td>KyogrePrimal Kyogre</td>\n",
       "      <td>770.0</td>\n",
       "      <td>4</td>\n",
       "    </tr>\n",
       "    <tr>\n",
       "      <th>425</th>\n",
       "      <td>GroudonPrimal Groudon</td>\n",
       "      <td>770.0</td>\n",
       "      <td>5</td>\n",
       "    </tr>\n",
       "    <tr>\n",
       "      <th>553</th>\n",
       "      <td>Arceus</td>\n",
       "      <td>720.0</td>\n",
       "      <td>6</td>\n",
       "    </tr>\n",
       "    <tr>\n",
       "      <th>269</th>\n",
       "      <td>TyranitarMega Tyranitar</td>\n",
       "      <td>700.0</td>\n",
       "      <td>7</td>\n",
       "    </tr>\n",
       "    <tr>\n",
       "      <th>410</th>\n",
       "      <td>SalamenceMega Salamence</td>\n",
       "      <td>700.0</td>\n",
       "      <td>8</td>\n",
       "    </tr>\n",
       "    <tr>\n",
       "      <th>414</th>\n",
       "      <td>MetagrossMega Metagross</td>\n",
       "      <td>700.0</td>\n",
       "      <td>9</td>\n",
       "    </tr>\n",
       "    <tr>\n",
       "      <th>419</th>\n",
       "      <td>LatiasMega Latias</td>\n",
       "      <td>700.0</td>\n",
       "      <td>10</td>\n",
       "    </tr>\n",
       "    <tr>\n",
       "      <th>421</th>\n",
       "      <td>LatiosMega Latios</td>\n",
       "      <td>700.0</td>\n",
       "      <td>11</td>\n",
       "    </tr>\n",
       "    <tr>\n",
       "      <th>495</th>\n",
       "      <td>GarchompMega Garchomp</td>\n",
       "      <td>700.0</td>\n",
       "      <td>12</td>\n",
       "    </tr>\n",
       "    <tr>\n",
       "      <th>712</th>\n",
       "      <td>KyuremBlack Kyurem</td>\n",
       "      <td>700.0</td>\n",
       "      <td>13</td>\n",
       "    </tr>\n",
       "    <tr>\n",
       "      <th>713</th>\n",
       "      <td>KyuremWhite Kyurem</td>\n",
       "      <td>700.0</td>\n",
       "      <td>14</td>\n",
       "    </tr>\n",
       "    <tr>\n",
       "      <th>797</th>\n",
       "      <td>DiancieMega Diancie</td>\n",
       "      <td>700.0</td>\n",
       "      <td>15</td>\n",
       "    </tr>\n",
       "  </tbody>\n",
       "</table>\n",
       "</div>"
      ],
      "text/plain": [
       "                       Pokemon  Power  Rank\n",
       "Index                                      \n",
       "164        MewtwoMega Mewtwo X  800.0     1\n",
       "165        MewtwoMega Mewtwo Y  780.0     2\n",
       "427      RayquazaMega Rayquaza  780.0     3\n",
       "423        KyogrePrimal Kyogre  770.0     4\n",
       "425      GroudonPrimal Groudon  770.0     5\n",
       "553                     Arceus  720.0     6\n",
       "269    TyranitarMega Tyranitar  700.0     7\n",
       "410    SalamenceMega Salamence  700.0     8\n",
       "414    MetagrossMega Metagross  700.0     9\n",
       "419          LatiasMega Latias  700.0    10\n",
       "421          LatiosMega Latios  700.0    11\n",
       "495      GarchompMega Garchomp  700.0    12\n",
       "712         KyuremBlack Kyurem  700.0    13\n",
       "713         KyuremWhite Kyurem  700.0    14\n",
       "797        DiancieMega Diancie  700.0    15"
      ]
     },
     "execution_count": 95,
     "metadata": {},
     "output_type": "execute_result"
    }
   ],
   "source": [
    "#ranks pokemon and makes dataframe of name/power/rank\n",
    "import pandas as pd\n",
    "def rank_pokedex(pokedex):\n",
    "    ordered_pokemon=[]\n",
    "    for pokemon_index in pokedex:\n",
    "        ordered_pokemon.append([pokedex[pokemon_index]['Name'],pokedex[pokemon_index]['Total'],pokemon_index])\n",
    "    ordered_pokemon.sort(key= lambda x: x[1], reverse=True)\n",
    "    for pokemon_index in range(0, len(ordered_pokemon)):\n",
    "        ordered_pokemon[pokemon_index].append((pokemon_index+1))\n",
    "    poke_frame= pd.DataFrame(ordered_pokemon)\n",
    "    poke_frame.columns=['Pokemon','Power','Index','Rank']\n",
    "    poke_frame.set_index('Index',inplace=True)\n",
    "\n",
    "    return poke_frame\n",
    "\n",
    "rank_pokedex(pokedex).head(15)"
   ]
  },
  {
   "cell_type": "markdown",
   "metadata": {},
   "source": [
    "Again there is little information to help inform our probabilities for catching each pokemon.\n",
    "\n",
    "We can see a slight jump in the total power between pokemon at rank 5 and rank 6 (which could indicate a special type of pokemon), we will make these pokemon rarer and make the top ranked pokemon even rarer.\n",
    "\n",
    "We also want to keep people engaged, so we are going to make it so they catch (on average) one pokemon per gym visited, we will do this by making the sum of probabilities equal to 1."
   ]
  },
  {
   "cell_type": "code",
   "execution_count": 105,
   "metadata": {},
   "outputs": [],
   "source": [
    "#a function that determines the index of overpowered pokemon  such that top 5 pokemon of default \n",
    "#pokedex are overpowered (same as previous but with different multiplier on standard deviation). \n",
    "def over_powered_pokemon1(pokedex):\n",
    "    op_pokemon=[]\n",
    "    op= mean_of_total_power(pokedex)+ 2.5*(standard_dev_of_power(pokedex))\n",
    "    for pokemon_index in pokedex:\n",
    "        if pokedex[pokemon_index]['Total']>= op:\n",
    "            op_pokemon.append(pokemon_index)\n",
    "    return op_pokemon \n",
    "\n",
    "#ppv = avg pokemon per site visited, default=1 \n",
    "\n",
    "def pokemon_probability(pokemon_index, pokedex=pokedex, ppv=1):\n",
    "    sum_of_probs=0\n",
    "    df=rank_pokedex(pokedex)\n",
    "    op_list=over_powered_pokemon1(pokedex)\n",
    "    for pi in pokedex:\n",
    "        if int(df.loc[[pi],'Rank'])==1:\n",
    "            sum_of_probs= 1/(30*pokedex[pi]['Total'])+ sum_of_probs\n",
    "        elif pi in op_list:\n",
    "            sum_of_probs= 1/(20*pokedex[pi]['Total'])+ sum_of_probs\n",
    "        else:\n",
    "            sum_of_probs= 1/(pokedex[pi]['Total'])+ sum_of_probs\n",
    "    multiplier=ppv/sum_of_probs\n",
    "    if int(df.loc[[pokemon_index],'Rank'])==1:\n",
    "        return multiplier/(30*pokedex[pokemon_index]['Total'])\n",
    "    elif pokemon_index in op_list:\n",
    "        return  multiplier/(20*pokedex[pokemon_index]['Total'])\n",
    "    else:\n",
    "        return multiplier/pokedex[pokemon_index]['Total']\n"
   ]
  }
 ],
 "metadata": {
  "anaconda-cloud": {},
  "kernelspec": {
   "display_name": "Python 3",
   "language": "python",
   "name": "python3"
  },
  "language_info": {
   "codemirror_mode": {
    "name": "ipython",
    "version": 3
   },
   "file_extension": ".py",
   "mimetype": "text/x-python",
   "name": "python",
   "nbconvert_exporter": "python",
   "pygments_lexer": "ipython3",
   "version": "3.7.1"
  },
  "toc": {
   "base_numbering": 1,
   "nav_menu": {
    "height": "159px",
    "width": "264px"
   },
   "number_sections": false,
   "sideBar": true,
   "skip_h1_title": true,
   "title_cell": "Table of Contents",
   "title_sidebar": "Contents",
   "toc_cell": true,
   "toc_position": {},
   "toc_section_display": "block",
   "toc_window_display": false
  }
 },
 "nbformat": 4,
 "nbformat_minor": 1
}
